{
  "nbformat": 4,
  "nbformat_minor": 0,
  "metadata": {
    "colab": {
      "provenance": [],
      "include_colab_link": true
    },
    "kernelspec": {
      "name": "python3",
      "display_name": "Python 3"
    },
    "language_info": {
      "name": "python"
    }
  },
  "cells": [
    {
      "cell_type": "markdown",
      "metadata": {
        "id": "view-in-github",
        "colab_type": "text"
      },
      "source": [
        "<a href=\"https://colab.research.google.com/github/minhphuoc0910/machine-learning/blob/main/LinearRegression.ipynb\" target=\"_parent\"><img src=\"https://colab.research.google.com/assets/colab-badge.svg\" alt=\"Open In Colab\"/></a>"
      ]
    },
    {
      "cell_type": "code",
      "execution_count": null,
      "metadata": {
        "colab": {
          "base_uri": "https://localhost:8080/"
        },
        "id": "WDRNs5BGtSK1",
        "outputId": "1680ffae-78dc-460f-b88f-6beb8e50992d"
      },
      "outputs": [
        {
          "output_type": "stream",
          "name": "stdout",
          "text": [
            "Collecting pyspark\n",
            "  Downloading pyspark-3.5.0.tar.gz (316.9 MB)\n",
            "\u001b[2K     \u001b[90m━━━━━━━━━━━━━━━━━━━━━━━━━━━━━━━━━━━━━━━━\u001b[0m \u001b[32m316.9/316.9 MB\u001b[0m \u001b[31m4.3 MB/s\u001b[0m eta \u001b[36m0:00:00\u001b[0m\n",
            "\u001b[?25h  Preparing metadata (setup.py) ... \u001b[?25l\u001b[?25hdone\n",
            "Requirement already satisfied: py4j in /usr/local/lib/python3.10/dist-packages (0.10.9.7)\n",
            "Building wheels for collected packages: pyspark\n",
            "  Building wheel for pyspark (setup.py) ... \u001b[?25l\u001b[?25hdone\n",
            "  Created wheel for pyspark: filename=pyspark-3.5.0-py2.py3-none-any.whl size=317425345 sha256=d32a05b545e1ef04eddec72e59089e6bd91f5dd37e1f29f3bfdb8525f685bc01\n",
            "  Stored in directory: /root/.cache/pip/wheels/41/4e/10/c2cf2467f71c678cfc8a6b9ac9241e5e44a01940da8fbb17fc\n",
            "Successfully built pyspark\n",
            "Installing collected packages: pyspark\n",
            "Successfully installed pyspark-3.5.0\n"
          ]
        }
      ],
      "source": [
        "!pip install pyspark py4j"
      ]
    },
    {
      "cell_type": "code",
      "source": [
        "from pyspark.sql import SparkSession\n",
        "from pyspark.sql.functions import to_date, col, lag, month\n",
        "from pyspark.ml.feature import VectorAssembler\n",
        "from pyspark.sql.window import Window\n",
        "from pyspark.ml.regression import LinearRegression\n",
        "from pyspark.ml.evaluation import RegressionEvaluator\n",
        "\n",
        "class PredictStockPrice:\n",
        "  def __init__(self, file_path, k):\n",
        "    self.spark = SparkSession.builder.appName(\"PredictStockPrice\").getOrCreate()\n",
        "    self.data = self.process_data(file_path)\n",
        "    self.k = k\n",
        "\n",
        "  def process_data(self,file_path):\n",
        "    data = self.spark.read.csv(file_path, header=True, inferSchema=True)\n",
        "    data = data.withColumn(\"HVN\", col(\"HVN\").cast(\"double\"))\n",
        "    data = data.withColumn(\"Ngay\", to_date(\"Ngay\",\"dd/MM/yyyy\"))\n",
        "\n",
        "    return data\n",
        "\n",
        "  def generate_train_test_data(self):\n",
        "    data_k_days = self.data.select(\"*\")\n",
        "    # Sử dụng hàm lag để tạo cột với giá của k ngày trước\n",
        "    for i in range(1, self.k+1):\n",
        "      data_k_days = data_k_days.withColumn(f\"{i} days before\", lag(\"HVN\", i).over(Window.orderBy(\"Ngay\")))\n",
        "\n",
        "    # Loại bỏ hàng có giá null sau khi sử dụng lag\n",
        "    data_k_days = data_k_days.na.drop()\n",
        "\n",
        "    # Tạo vector từ giá của k ngày trước\n",
        "    assembler = VectorAssembler(inputCols=[f\"{i} days before\" for i in range(1, self.k+1)], outputCol=\"Price k days before\")\n",
        "    data_k_days = assembler.transform(data_k_days)\n",
        "\n",
        "    #Chia tập dữ liệu thành 2 phần trước tháng 7 và từ tháng 7 trở đi\n",
        "    data_from_july = data_k_days.filter(month(col(\"Ngay\")) >= 7)\n",
        "    data_before_july = data_k_days.filter(month(col(\"Ngay\")) < 7)\n",
        "\n",
        "    #Lọc lấy vector giá k ngày trước và giá ngày hiện tại\n",
        "    test_data = data_from_july.select([\"Price k days before\", \"HVN\"])\n",
        "    train_data = data_before_july.select([\"Price k days before\", \"HVN\"])\n",
        "\n",
        "    return test_data, train_data\n",
        "\n",
        "  def predict(self):\n",
        "    test_data, train_data = self.generate_train_test_data()\n",
        "    lr = LinearRegression(featuresCol=\"Price k days before\", labelCol=\"HVN\")\n",
        "    model = lr.fit(train_data)\n",
        "    predictions = model.transform(test_data)\n",
        "\n",
        "    return predictions\n",
        "\n",
        "  def evaluate(self):\n",
        "    evaluator = RegressionEvaluator(labelCol=\"HVN\", predictionCol='prediction', metricName='mse')\n",
        "    mse = evaluator.evaluate(self.predict())\n",
        "\n",
        "    return mse"
      ],
      "metadata": {
        "id": "pa806BFRttXV"
      },
      "execution_count": null,
      "outputs": []
    },
    {
      "cell_type": "code",
      "source": [
        "file_path = 'stockHVN2022.csv'"
      ],
      "metadata": {
        "id": "wkvzSrkKJmUC"
      },
      "execution_count": null,
      "outputs": []
    },
    {
      "cell_type": "code",
      "source": [
        "predict_5 = PredictStockPrice(file_path,5)\n",
        "predict_5.predict()\n",
        "mse_5 = predict_5.evaluate()"
      ],
      "metadata": {
        "id": "9EzOWIiXlkZ6"
      },
      "execution_count": null,
      "outputs": []
    },
    {
      "cell_type": "code",
      "source": [
        "predict_6 = PredictStockPrice(file_path,6)\n",
        "predict_6.predict()\n",
        "mse_6 = predict_6.evaluate()"
      ],
      "metadata": {
        "id": "u2BvaS2KllUZ"
      },
      "execution_count": null,
      "outputs": []
    },
    {
      "cell_type": "code",
      "source": [
        "predict_7 = PredictStockPrice(file_path,7)\n",
        "predict_7.predict()\n",
        "mse_7 = predict_7.evaluate()"
      ],
      "metadata": {
        "id": "GK_vo4kgllv9"
      },
      "execution_count": null,
      "outputs": []
    },
    {
      "cell_type": "code",
      "source": [
        "predict_8 = PredictStockPrice(file_path,8)\n",
        "predict_8.predict()\n",
        "mse_8 = predict_8.evaluate()"
      ],
      "metadata": {
        "id": "NWbLsNa1lmar"
      },
      "execution_count": null,
      "outputs": []
    },
    {
      "cell_type": "code",
      "source": [
        "predict_9 = PredictStockPrice(file_path,9)\n",
        "predict_9.predict()\n",
        "mse_9 = predict_9.evaluate()"
      ],
      "metadata": {
        "id": "cLYMCHiqlmwh"
      },
      "execution_count": null,
      "outputs": []
    },
    {
      "cell_type": "code",
      "source": [
        "predict_10 = PredictStockPrice(file_path,10)\n",
        "predict_10.predict()\n",
        "mse_10 = predict_10.evaluate()"
      ],
      "metadata": {
        "id": "E0Aricb2lnLX"
      },
      "execution_count": null,
      "outputs": []
    },
    {
      "cell_type": "code",
      "source": [
        "import matplotlib.pyplot as plt\n",
        "\n",
        "# Danh sách các giá trị k và tương ứng với MSE\n",
        "k_values = [5, 6, 7, 8, 9, 10]\n",
        "mse_values = [mse_5, mse_6, mse_7, mse_8, mse_9, mse_10]\n",
        "\n",
        "# Vẽ biểu đồ\n",
        "plt.figure(figsize=(8, 5))\n",
        "plt.plot(k_values, mse_values, marker='o', linestyle='-', color='b')\n",
        "plt.xlabel(\"Giá trị k\")\n",
        "plt.ylabel(\"MSE\")\n",
        "plt.title(\"Biểu đồ so sánh MSE với các giá trị k tương ứng\")\n",
        "plt.grid(True)\n",
        "plt.show()\n"
      ],
      "metadata": {
        "colab": {
          "base_uri": "https://localhost:8080/",
          "height": 489
        },
        "id": "CKEMFe7Wn8hX",
        "outputId": "6d4c3d1d-630d-41c5-9ca2-8e94fae4c3ec"
      },
      "execution_count": null,
      "outputs": [
        {
          "output_type": "display_data",
          "data": {
            "text/plain": [
              "<Figure size 800x500 with 1 Axes>"
            ],
            "image/png": "[encoded data removed]"
          },
          "metadata": {}
        }
      ]
    },
    {
      "cell_type": "code",
      "source": [
        "for mse in mse_values:\n",
        "  print(mse)"
      ],
      "metadata": {
        "colab": {
          "base_uri": "https://localhost:8080/"
        },
        "id": "SxEcy22GpYCK",
        "outputId": "63b85719-5dc7-4b48-c6ed-be489da517dd"
      },
      "execution_count": null,
      "outputs": [
        {
          "output_type": "stream",
          "name": "stdout",
          "text": [
            "0.10795333147951046\n",
            "0.10757138049157143\n",
            "0.11131411407092913\n",
            "0.11132771598823767\n",
            "0.11090675296083725\n",
            "0.11332598687141665\n"
          ]
        }
      ]
    }
  ]
}